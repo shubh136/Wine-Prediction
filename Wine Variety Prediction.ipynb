{
 "cells": [
  {
   "cell_type": "markdown",
   "metadata": {},
   "source": [
    "# Wine Prediction Using Review_Description"
   ]
  },
  {
   "cell_type": "code",
   "execution_count": 143,
   "metadata": {
    "_cell_guid": "b1076dfc-b9ad-4769-8c92-a6c4dae69d19",
    "_uuid": "8f2839f25d086af736a60e9eeb907d3b93b6e0e5"
   },
   "outputs": [
    {
     "name": "stdout",
     "output_type": "stream",
     "text": [
      "/kaggle/input/knight-ml-assignment/train.csv\n",
      "/kaggle/input/knight-ml-assignment/test.csv\n"
     ]
    }
   ],
   "source": [
    "# This Python 3 environment comes with many helpful analytics libraries installed\n",
    "# It is defined by the kaggle/python Docker image: https://github.com/kaggle/docker-python\n",
    "# For example, here's several helpful packages to load\n",
    "\n",
    "import numpy as np # linear algebra\n",
    "import pandas as pd # data processing, CSV file I/O (e.g. pd.read_csv)\n",
    "import matplotlib.pyplot as plt\n",
    "import seaborn as sns\n",
    "from sklearn.preprocessing import LabelEncoder\n",
    "from nltk.corpus import stopwords\n",
    "import re\n",
    "from sklearn.feature_extraction.text import CountVectorizer\n",
    "from sklearn.model_selection import train_test_split\n",
    "from keras.models import Sequential\n",
    "from keras.layers import Dense\n",
    "sw = stopwords.words('english')\n",
    "# Input data files are available in the read-only \"../input/\" directory\n",
    "# For example, running this (by clicking run or pressing Shift+Enter) will list all files under the input directory\n",
    "\n",
    "import os\n",
    "for dirname, _, filenames in os.walk('/kaggle/input'):\n",
    "    for filename in filenames:\n",
    "        print(os.path.join(dirname, filename))\n",
    "\n",
    "# You can write up to 5GB to the current directory (/kaggle/working/) that gets preserved as output when you create a version using \"Save & Run All\" \n",
    "# You can also write temporary files to /kaggle/temp/, but they won't be saved outside of the current session"
   ]
  },
  {
   "cell_type": "code",
   "execution_count": 144,
   "metadata": {
    "_cell_guid": "79c7e3d0-c299-4dcb-8224-4455121ee9b0",
    "_uuid": "d629ff2d2480ee46fbb7e2d37f6b5fab8052498a"
   },
   "outputs": [],
   "source": [
    "train = pd.read_csv('/kaggle/input/knight-ml-assignment/train.csv')\n",
    "test = pd.read_csv('/kaggle/input/knight-ml-assignment/test.csv')"
   ]
  },
  {
   "cell_type": "code",
   "execution_count": 145,
   "metadata": {},
   "outputs": [],
   "source": [
    "df = train.copy()\n",
    "df1 = test.copy()"
   ]
  },
  {
   "cell_type": "code",
   "execution_count": 146,
   "metadata": {},
   "outputs": [
    {
     "data": {
      "text/html": [
       "<div>\n",
       "<style scoped>\n",
       "    .dataframe tbody tr th:only-of-type {\n",
       "        vertical-align: middle;\n",
       "    }\n",
       "\n",
       "    .dataframe tbody tr th {\n",
       "        vertical-align: top;\n",
       "    }\n",
       "\n",
       "    .dataframe thead th {\n",
       "        text-align: right;\n",
       "    }\n",
       "</style>\n",
       "<table border=\"1\" class=\"dataframe\">\n",
       "  <thead>\n",
       "    <tr style=\"text-align: right;\">\n",
       "      <th></th>\n",
       "      <th>user_name</th>\n",
       "      <th>country</th>\n",
       "      <th>review_title</th>\n",
       "      <th>review_description</th>\n",
       "      <th>designation</th>\n",
       "      <th>points</th>\n",
       "      <th>price</th>\n",
       "      <th>province</th>\n",
       "      <th>region_1</th>\n",
       "      <th>region_2</th>\n",
       "      <th>winery</th>\n",
       "      <th>variety</th>\n",
       "    </tr>\n",
       "  </thead>\n",
       "  <tbody>\n",
       "    <tr>\n",
       "      <th>0</th>\n",
       "      <td>NaN</td>\n",
       "      <td>Australia</td>\n",
       "      <td>Andrew Peace 2007 Peace Family Vineyard Chardo...</td>\n",
       "      <td>Classic Chardonnay aromas of apple, pear and h...</td>\n",
       "      <td>Peace Family Vineyard</td>\n",
       "      <td>83</td>\n",
       "      <td>10.0</td>\n",
       "      <td>Australia Other</td>\n",
       "      <td>South Eastern Australia</td>\n",
       "      <td>NaN</td>\n",
       "      <td>Andrew Peace</td>\n",
       "      <td>Chardonnay</td>\n",
       "    </tr>\n",
       "    <tr>\n",
       "      <th>1</th>\n",
       "      <td>@wawinereport</td>\n",
       "      <td>US</td>\n",
       "      <td>North by Northwest 2014 Red (Columbia Valley (...</td>\n",
       "      <td>This wine is near equal parts Syrah and Merlot...</td>\n",
       "      <td>NaN</td>\n",
       "      <td>89</td>\n",
       "      <td>15.0</td>\n",
       "      <td>Washington</td>\n",
       "      <td>Columbia Valley (WA)</td>\n",
       "      <td>Columbia Valley</td>\n",
       "      <td>North by Northwest</td>\n",
       "      <td>Red Blend</td>\n",
       "    </tr>\n",
       "    <tr>\n",
       "      <th>2</th>\n",
       "      <td>NaN</td>\n",
       "      <td>Italy</td>\n",
       "      <td>Renato Ratti 2007 Conca  (Barolo)</td>\n",
       "      <td>Barolo Conca opens with inky dark concentratio...</td>\n",
       "      <td>Conca</td>\n",
       "      <td>94</td>\n",
       "      <td>80.0</td>\n",
       "      <td>Piedmont</td>\n",
       "      <td>Barolo</td>\n",
       "      <td>NaN</td>\n",
       "      <td>Renato Ratti</td>\n",
       "      <td>Nebbiolo</td>\n",
       "    </tr>\n",
       "    <tr>\n",
       "      <th>3</th>\n",
       "      <td>@vossroger</td>\n",
       "      <td>France</td>\n",
       "      <td>Domaine l'Ancienne Cure 2010 L'Abbaye White (B...</td>\n",
       "      <td>It's impressive what a small addition of Sauvi...</td>\n",
       "      <td>L'Abbaye</td>\n",
       "      <td>87</td>\n",
       "      <td>22.0</td>\n",
       "      <td>Southwest France</td>\n",
       "      <td>Bergerac Sec</td>\n",
       "      <td>NaN</td>\n",
       "      <td>Domaine l'Ancienne Cure</td>\n",
       "      <td>Bordeaux-style White Blend</td>\n",
       "    </tr>\n",
       "    <tr>\n",
       "      <th>4</th>\n",
       "      <td>@vossroger</td>\n",
       "      <td>France</td>\n",
       "      <td>Château du Cèdre 2012 Le Cèdre Vintage Malbec ...</td>\n",
       "      <td>This ripe, sweet wine is rich and full of drie...</td>\n",
       "      <td>Le Cèdre Vintage</td>\n",
       "      <td>88</td>\n",
       "      <td>33.0</td>\n",
       "      <td>France Other</td>\n",
       "      <td>Vin de Liqueur</td>\n",
       "      <td>NaN</td>\n",
       "      <td>Château du Cèdre</td>\n",
       "      <td>Malbec</td>\n",
       "    </tr>\n",
       "    <tr>\n",
       "      <th>5</th>\n",
       "      <td>@wineschach</td>\n",
       "      <td>Argentina</td>\n",
       "      <td>Andean 2005 Finca La Escondida Reserva Caberne...</td>\n",
       "      <td>Strident aromas of licorice, herbs, berries an...</td>\n",
       "      <td>Finca La Escondida Reserva</td>\n",
       "      <td>85</td>\n",
       "      <td>13.0</td>\n",
       "      <td>Other</td>\n",
       "      <td>San Juan</td>\n",
       "      <td>NaN</td>\n",
       "      <td>Andean</td>\n",
       "      <td>Cabernet Sauvignon</td>\n",
       "    </tr>\n",
       "    <tr>\n",
       "      <th>6</th>\n",
       "      <td>@wawinereport</td>\n",
       "      <td>US</td>\n",
       "      <td>Gordon Estate 2012 Tradition Red (Columbia Val...</td>\n",
       "      <td>Half Syrah and half Cabernet Sauvignon, with 4...</td>\n",
       "      <td>Tradition</td>\n",
       "      <td>91</td>\n",
       "      <td>45.0</td>\n",
       "      <td>Washington</td>\n",
       "      <td>Columbia Valley (WA)</td>\n",
       "      <td>Columbia Valley</td>\n",
       "      <td>Gordon Estate</td>\n",
       "      <td>Red Blend</td>\n",
       "    </tr>\n",
       "    <tr>\n",
       "      <th>7</th>\n",
       "      <td>@vboone</td>\n",
       "      <td>US</td>\n",
       "      <td>Rock Wall 2014 Monte Rosso Reserve Zinfandel (...</td>\n",
       "      <td>High-toned red fruit stars in this wine, a nic...</td>\n",
       "      <td>Monte Rosso Reserve</td>\n",
       "      <td>90</td>\n",
       "      <td>50.0</td>\n",
       "      <td>California</td>\n",
       "      <td>Sonoma County</td>\n",
       "      <td>Sonoma</td>\n",
       "      <td>Rock Wall</td>\n",
       "      <td>Zinfandel</td>\n",
       "    </tr>\n",
       "    <tr>\n",
       "      <th>8</th>\n",
       "      <td>@paulgwine</td>\n",
       "      <td>US</td>\n",
       "      <td>Elizabeth Chambers 2014 Falcon Glen Vineyard P...</td>\n",
       "      <td>Displaying typical McMinnville AVA subtlety, t...</td>\n",
       "      <td>Falcon Glen Vineyard</td>\n",
       "      <td>91</td>\n",
       "      <td>48.0</td>\n",
       "      <td>Oregon</td>\n",
       "      <td>McMinnville</td>\n",
       "      <td>Willamette Valley</td>\n",
       "      <td>Elizabeth Chambers</td>\n",
       "      <td>Pinot Noir</td>\n",
       "    </tr>\n",
       "    <tr>\n",
       "      <th>9</th>\n",
       "      <td>@kerinokeefe</td>\n",
       "      <td>Italy</td>\n",
       "      <td>Mannucci Droandi 2009 Ceppeto Riserva  (Chiant...</td>\n",
       "      <td>This blend of Sangiovese and 10% Merlot opens ...</td>\n",
       "      <td>Ceppeto Riserva</td>\n",
       "      <td>86</td>\n",
       "      <td>31.0</td>\n",
       "      <td>Tuscany</td>\n",
       "      <td>Chianti Classico</td>\n",
       "      <td>NaN</td>\n",
       "      <td>Mannucci Droandi</td>\n",
       "      <td>Red Blend</td>\n",
       "    </tr>\n",
       "  </tbody>\n",
       "</table>\n",
       "</div>"
      ],
      "text/plain": [
       "       user_name    country  \\\n",
       "0            NaN  Australia   \n",
       "1  @wawinereport         US   \n",
       "2            NaN      Italy   \n",
       "3     @vossroger     France   \n",
       "4     @vossroger     France   \n",
       "5    @wineschach  Argentina   \n",
       "6  @wawinereport         US   \n",
       "7        @vboone         US   \n",
       "8    @paulgwine          US   \n",
       "9   @kerinokeefe      Italy   \n",
       "\n",
       "                                        review_title  \\\n",
       "0  Andrew Peace 2007 Peace Family Vineyard Chardo...   \n",
       "1  North by Northwest 2014 Red (Columbia Valley (...   \n",
       "2                  Renato Ratti 2007 Conca  (Barolo)   \n",
       "3  Domaine l'Ancienne Cure 2010 L'Abbaye White (B...   \n",
       "4  Château du Cèdre 2012 Le Cèdre Vintage Malbec ...   \n",
       "5  Andean 2005 Finca La Escondida Reserva Caberne...   \n",
       "6  Gordon Estate 2012 Tradition Red (Columbia Val...   \n",
       "7  Rock Wall 2014 Monte Rosso Reserve Zinfandel (...   \n",
       "8  Elizabeth Chambers 2014 Falcon Glen Vineyard P...   \n",
       "9  Mannucci Droandi 2009 Ceppeto Riserva  (Chiant...   \n",
       "\n",
       "                                  review_description  \\\n",
       "0  Classic Chardonnay aromas of apple, pear and h...   \n",
       "1  This wine is near equal parts Syrah and Merlot...   \n",
       "2  Barolo Conca opens with inky dark concentratio...   \n",
       "3  It's impressive what a small addition of Sauvi...   \n",
       "4  This ripe, sweet wine is rich and full of drie...   \n",
       "5  Strident aromas of licorice, herbs, berries an...   \n",
       "6  Half Syrah and half Cabernet Sauvignon, with 4...   \n",
       "7  High-toned red fruit stars in this wine, a nic...   \n",
       "8  Displaying typical McMinnville AVA subtlety, t...   \n",
       "9  This blend of Sangiovese and 10% Merlot opens ...   \n",
       "\n",
       "                  designation  points  price          province  \\\n",
       "0       Peace Family Vineyard      83   10.0   Australia Other   \n",
       "1                         NaN      89   15.0        Washington   \n",
       "2                       Conca      94   80.0          Piedmont   \n",
       "3                    L'Abbaye      87   22.0  Southwest France   \n",
       "4            Le Cèdre Vintage      88   33.0      France Other   \n",
       "5  Finca La Escondida Reserva      85   13.0             Other   \n",
       "6                   Tradition      91   45.0        Washington   \n",
       "7         Monte Rosso Reserve      90   50.0        California   \n",
       "8        Falcon Glen Vineyard      91   48.0            Oregon   \n",
       "9             Ceppeto Riserva      86   31.0           Tuscany   \n",
       "\n",
       "                  region_1           region_2                   winery  \\\n",
       "0  South Eastern Australia                NaN             Andrew Peace   \n",
       "1     Columbia Valley (WA)    Columbia Valley       North by Northwest   \n",
       "2                   Barolo                NaN             Renato Ratti   \n",
       "3             Bergerac Sec                NaN  Domaine l'Ancienne Cure   \n",
       "4           Vin de Liqueur                NaN         Château du Cèdre   \n",
       "5                 San Juan                NaN                   Andean   \n",
       "6     Columbia Valley (WA)    Columbia Valley            Gordon Estate   \n",
       "7            Sonoma County             Sonoma                Rock Wall   \n",
       "8              McMinnville  Willamette Valley       Elizabeth Chambers   \n",
       "9         Chianti Classico                NaN         Mannucci Droandi   \n",
       "\n",
       "                      variety  \n",
       "0                  Chardonnay  \n",
       "1                   Red Blend  \n",
       "2                    Nebbiolo  \n",
       "3  Bordeaux-style White Blend  \n",
       "4                      Malbec  \n",
       "5          Cabernet Sauvignon  \n",
       "6                   Red Blend  \n",
       "7                   Zinfandel  \n",
       "8                  Pinot Noir  \n",
       "9                   Red Blend  "
      ]
     },
     "execution_count": 146,
     "metadata": {},
     "output_type": "execute_result"
    }
   ],
   "source": [
    "train.head(10)"
   ]
  },
  {
   "cell_type": "code",
   "execution_count": 147,
   "metadata": {},
   "outputs": [
    {
     "name": "stdout",
     "output_type": "stream",
     "text": [
      "<class 'pandas.core.frame.DataFrame'>\n",
      "RangeIndex: 82657 entries, 0 to 82656\n",
      "Data columns (total 12 columns):\n",
      " #   Column              Non-Null Count  Dtype  \n",
      "---  ------              --------------  -----  \n",
      " 0   user_name           63264 non-null  object \n",
      " 1   country             82622 non-null  object \n",
      " 2   review_title        82657 non-null  object \n",
      " 3   review_description  82657 non-null  object \n",
      " 4   designation         59010 non-null  object \n",
      " 5   points              82657 non-null  int64  \n",
      " 6   price               77088 non-null  float64\n",
      " 7   province            82622 non-null  object \n",
      " 8   region_1            69903 non-null  object \n",
      " 9   region_2            35949 non-null  object \n",
      " 10  winery              82657 non-null  object \n",
      " 11  variety             82657 non-null  object \n",
      "dtypes: float64(1), int64(1), object(10)\n",
      "memory usage: 7.6+ MB\n"
     ]
    }
   ],
   "source": [
    "train.info()"
   ]
  },
  {
   "cell_type": "code",
   "execution_count": 148,
   "metadata": {},
   "outputs": [
    {
     "data": {
      "text/html": [
       "<div>\n",
       "<style scoped>\n",
       "    .dataframe tbody tr th:only-of-type {\n",
       "        vertical-align: middle;\n",
       "    }\n",
       "\n",
       "    .dataframe tbody tr th {\n",
       "        vertical-align: top;\n",
       "    }\n",
       "\n",
       "    .dataframe thead th {\n",
       "        text-align: right;\n",
       "    }\n",
       "</style>\n",
       "<table border=\"1\" class=\"dataframe\">\n",
       "  <thead>\n",
       "    <tr style=\"text-align: right;\">\n",
       "      <th></th>\n",
       "      <th>points</th>\n",
       "      <th>price</th>\n",
       "    </tr>\n",
       "  </thead>\n",
       "  <tbody>\n",
       "    <tr>\n",
       "      <th>count</th>\n",
       "      <td>82657.000000</td>\n",
       "      <td>77088.000000</td>\n",
       "    </tr>\n",
       "    <tr>\n",
       "      <th>mean</th>\n",
       "      <td>88.544564</td>\n",
       "      <td>36.922232</td>\n",
       "    </tr>\n",
       "    <tr>\n",
       "      <th>std</th>\n",
       "      <td>3.099649</td>\n",
       "      <td>43.698346</td>\n",
       "    </tr>\n",
       "    <tr>\n",
       "      <th>min</th>\n",
       "      <td>80.000000</td>\n",
       "      <td>4.000000</td>\n",
       "    </tr>\n",
       "    <tr>\n",
       "      <th>25%</th>\n",
       "      <td>86.000000</td>\n",
       "      <td>18.000000</td>\n",
       "    </tr>\n",
       "    <tr>\n",
       "      <th>50%</th>\n",
       "      <td>88.000000</td>\n",
       "      <td>27.000000</td>\n",
       "    </tr>\n",
       "    <tr>\n",
       "      <th>75%</th>\n",
       "      <td>91.000000</td>\n",
       "      <td>45.000000</td>\n",
       "    </tr>\n",
       "    <tr>\n",
       "      <th>max</th>\n",
       "      <td>100.000000</td>\n",
       "      <td>3300.000000</td>\n",
       "    </tr>\n",
       "  </tbody>\n",
       "</table>\n",
       "</div>"
      ],
      "text/plain": [
       "             points         price\n",
       "count  82657.000000  77088.000000\n",
       "mean      88.544564     36.922232\n",
       "std        3.099649     43.698346\n",
       "min       80.000000      4.000000\n",
       "25%       86.000000     18.000000\n",
       "50%       88.000000     27.000000\n",
       "75%       91.000000     45.000000\n",
       "max      100.000000   3300.000000"
      ]
     },
     "execution_count": 148,
     "metadata": {},
     "output_type": "execute_result"
    }
   ],
   "source": [
    "train.describe()"
   ]
  },
  {
   "cell_type": "markdown",
   "metadata": {},
   "source": [
    "As we can see only price is continous variable in our input. As we can see on minimum and maximium value there is really high diverse in price feature. There is wine which cost 3300 dollars , but we can see that 75 percent of wines are cheaper than 45 dollars."
   ]
  },
  {
   "cell_type": "code",
   "execution_count": 149,
   "metadata": {},
   "outputs": [
    {
     "name": "stdout",
     "output_type": "stream",
     "text": [
      "<class 'pandas.core.frame.DataFrame'>\n",
      "RangeIndex: 82657 entries, 0 to 82656\n",
      "Data columns (total 12 columns):\n",
      " #   Column              Non-Null Count  Dtype  \n",
      "---  ------              --------------  -----  \n",
      " 0   user_name           63264 non-null  object \n",
      " 1   country             82622 non-null  object \n",
      " 2   review_title        82657 non-null  object \n",
      " 3   review_description  82657 non-null  object \n",
      " 4   designation         59010 non-null  object \n",
      " 5   points              82657 non-null  int64  \n",
      " 6   price               77088 non-null  float64\n",
      " 7   province            82622 non-null  object \n",
      " 8   region_1            69903 non-null  object \n",
      " 9   region_2            35949 non-null  object \n",
      " 10  winery              82657 non-null  object \n",
      " 11  variety             82657 non-null  object \n",
      "dtypes: float64(1), int64(1), object(10)\n",
      "memory usage: 7.6+ MB\n"
     ]
    }
   ],
   "source": [
    "train.info()"
   ]
  },
  {
   "cell_type": "markdown",
   "metadata": {},
   "source": [
    "We see that there is huge number of missing values. Let's see how many percent."
   ]
  },
  {
   "cell_type": "code",
   "execution_count": 150,
   "metadata": {},
   "outputs": [
    {
     "data": {
      "text/html": [
       "<div>\n",
       "<style scoped>\n",
       "    .dataframe tbody tr th:only-of-type {\n",
       "        vertical-align: middle;\n",
       "    }\n",
       "\n",
       "    .dataframe tbody tr th {\n",
       "        vertical-align: top;\n",
       "    }\n",
       "\n",
       "    .dataframe thead th {\n",
       "        text-align: right;\n",
       "    }\n",
       "</style>\n",
       "<table border=\"1\" class=\"dataframe\">\n",
       "  <thead>\n",
       "    <tr style=\"text-align: right;\">\n",
       "      <th></th>\n",
       "      <th>Total</th>\n",
       "      <th>Percent</th>\n",
       "    </tr>\n",
       "  </thead>\n",
       "  <tbody>\n",
       "    <tr>\n",
       "      <th>region_2</th>\n",
       "      <td>46708</td>\n",
       "      <td>56.508221</td>\n",
       "    </tr>\n",
       "    <tr>\n",
       "      <th>designation</th>\n",
       "      <td>23647</td>\n",
       "      <td>28.608587</td>\n",
       "    </tr>\n",
       "    <tr>\n",
       "      <th>user_name</th>\n",
       "      <td>19393</td>\n",
       "      <td>23.462018</td>\n",
       "    </tr>\n",
       "    <tr>\n",
       "      <th>region_1</th>\n",
       "      <td>12754</td>\n",
       "      <td>15.430030</td>\n",
       "    </tr>\n",
       "    <tr>\n",
       "      <th>price</th>\n",
       "      <td>5569</td>\n",
       "      <td>6.737481</td>\n",
       "    </tr>\n",
       "    <tr>\n",
       "      <th>province</th>\n",
       "      <td>35</td>\n",
       "      <td>0.042344</td>\n",
       "    </tr>\n",
       "    <tr>\n",
       "      <th>country</th>\n",
       "      <td>35</td>\n",
       "      <td>0.042344</td>\n",
       "    </tr>\n",
       "    <tr>\n",
       "      <th>variety</th>\n",
       "      <td>0</td>\n",
       "      <td>0.000000</td>\n",
       "    </tr>\n",
       "    <tr>\n",
       "      <th>winery</th>\n",
       "      <td>0</td>\n",
       "      <td>0.000000</td>\n",
       "    </tr>\n",
       "    <tr>\n",
       "      <th>points</th>\n",
       "      <td>0</td>\n",
       "      <td>0.000000</td>\n",
       "    </tr>\n",
       "    <tr>\n",
       "      <th>review_description</th>\n",
       "      <td>0</td>\n",
       "      <td>0.000000</td>\n",
       "    </tr>\n",
       "    <tr>\n",
       "      <th>review_title</th>\n",
       "      <td>0</td>\n",
       "      <td>0.000000</td>\n",
       "    </tr>\n",
       "  </tbody>\n",
       "</table>\n",
       "</div>"
      ],
      "text/plain": [
       "                    Total    Percent\n",
       "region_2            46708  56.508221\n",
       "designation         23647  28.608587\n",
       "user_name           19393  23.462018\n",
       "region_1            12754  15.430030\n",
       "price                5569   6.737481\n",
       "province               35   0.042344\n",
       "country                35   0.042344\n",
       "variety                 0   0.000000\n",
       "winery                  0   0.000000\n",
       "points                  0   0.000000\n",
       "review_description      0   0.000000\n",
       "review_title            0   0.000000"
      ]
     },
     "execution_count": 150,
     "metadata": {},
     "output_type": "execute_result"
    }
   ],
   "source": [
    "total = train.isnull().sum().sort_values(ascending = False)\n",
    "percent = (train.isnull().sum()/train.isnull().count()*100).sort_values(ascending = False)\n",
    "missing_data  = pd.concat([total, percent], axis=1, keys=['Total', 'Percent'])\n",
    "missing_data"
   ]
  },
  {
   "cell_type": "markdown",
   "metadata": {},
   "source": [
    "The most missing values are in region, destination, tester name and price columns.\n",
    "We don't want to predict variety for wines which price are undeclared. We will drop rows with NaN value in this column.Lets drop the region_2,designation,user_name and region_1 columns ."
   ]
  },
  {
   "cell_type": "code",
   "execution_count": 151,
   "metadata": {},
   "outputs": [
    {
     "data": {
      "text/html": [
       "<div>\n",
       "<style scoped>\n",
       "    .dataframe tbody tr th:only-of-type {\n",
       "        vertical-align: middle;\n",
       "    }\n",
       "\n",
       "    .dataframe tbody tr th {\n",
       "        vertical-align: top;\n",
       "    }\n",
       "\n",
       "    .dataframe thead th {\n",
       "        text-align: right;\n",
       "    }\n",
       "</style>\n",
       "<table border=\"1\" class=\"dataframe\">\n",
       "  <thead>\n",
       "    <tr style=\"text-align: right;\">\n",
       "      <th></th>\n",
       "      <th>user_name</th>\n",
       "      <th>country</th>\n",
       "      <th>review_title</th>\n",
       "      <th>review_description</th>\n",
       "      <th>designation</th>\n",
       "      <th>points</th>\n",
       "      <th>price</th>\n",
       "      <th>province</th>\n",
       "      <th>region_1</th>\n",
       "      <th>region_2</th>\n",
       "      <th>winery</th>\n",
       "      <th>variety</th>\n",
       "    </tr>\n",
       "  </thead>\n",
       "  <tbody>\n",
       "    <tr>\n",
       "      <th>count</th>\n",
       "      <td>63264</td>\n",
       "      <td>82622</td>\n",
       "      <td>82657</td>\n",
       "      <td>82657</td>\n",
       "      <td>59010</td>\n",
       "      <td>82657.000000</td>\n",
       "      <td>77088.000000</td>\n",
       "      <td>82622</td>\n",
       "      <td>69903</td>\n",
       "      <td>35949</td>\n",
       "      <td>82657</td>\n",
       "      <td>82657</td>\n",
       "    </tr>\n",
       "    <tr>\n",
       "      <th>unique</th>\n",
       "      <td>15</td>\n",
       "      <td>38</td>\n",
       "      <td>76983</td>\n",
       "      <td>77628</td>\n",
       "      <td>26424</td>\n",
       "      <td>NaN</td>\n",
       "      <td>NaN</td>\n",
       "      <td>358</td>\n",
       "      <td>1019</td>\n",
       "      <td>17</td>\n",
       "      <td>13786</td>\n",
       "      <td>28</td>\n",
       "    </tr>\n",
       "    <tr>\n",
       "      <th>top</th>\n",
       "      <td>@vossroger</td>\n",
       "      <td>US</td>\n",
       "      <td>Korbel NV Brut Sparkling (California)</td>\n",
       "      <td>Fresh green herbs on the nose accumulate fruit...</td>\n",
       "      <td>Reserve</td>\n",
       "      <td>NaN</td>\n",
       "      <td>NaN</td>\n",
       "      <td>California</td>\n",
       "      <td>Napa Valley</td>\n",
       "      <td>Central Coast</td>\n",
       "      <td>Testarossa</td>\n",
       "      <td>Pinot Noir</td>\n",
       "    </tr>\n",
       "    <tr>\n",
       "      <th>freq</th>\n",
       "      <td>17539</td>\n",
       "      <td>38573</td>\n",
       "      <td>8</td>\n",
       "      <td>2</td>\n",
       "      <td>1382</td>\n",
       "      <td>NaN</td>\n",
       "      <td>NaN</td>\n",
       "      <td>25736</td>\n",
       "      <td>3334</td>\n",
       "      <td>7503</td>\n",
       "      <td>175</td>\n",
       "      <td>10587</td>\n",
       "    </tr>\n",
       "    <tr>\n",
       "      <th>mean</th>\n",
       "      <td>NaN</td>\n",
       "      <td>NaN</td>\n",
       "      <td>NaN</td>\n",
       "      <td>NaN</td>\n",
       "      <td>NaN</td>\n",
       "      <td>88.544564</td>\n",
       "      <td>36.922232</td>\n",
       "      <td>NaN</td>\n",
       "      <td>NaN</td>\n",
       "      <td>NaN</td>\n",
       "      <td>NaN</td>\n",
       "      <td>NaN</td>\n",
       "    </tr>\n",
       "    <tr>\n",
       "      <th>std</th>\n",
       "      <td>NaN</td>\n",
       "      <td>NaN</td>\n",
       "      <td>NaN</td>\n",
       "      <td>NaN</td>\n",
       "      <td>NaN</td>\n",
       "      <td>3.099649</td>\n",
       "      <td>43.698346</td>\n",
       "      <td>NaN</td>\n",
       "      <td>NaN</td>\n",
       "      <td>NaN</td>\n",
       "      <td>NaN</td>\n",
       "      <td>NaN</td>\n",
       "    </tr>\n",
       "    <tr>\n",
       "      <th>min</th>\n",
       "      <td>NaN</td>\n",
       "      <td>NaN</td>\n",
       "      <td>NaN</td>\n",
       "      <td>NaN</td>\n",
       "      <td>NaN</td>\n",
       "      <td>80.000000</td>\n",
       "      <td>4.000000</td>\n",
       "      <td>NaN</td>\n",
       "      <td>NaN</td>\n",
       "      <td>NaN</td>\n",
       "      <td>NaN</td>\n",
       "      <td>NaN</td>\n",
       "    </tr>\n",
       "    <tr>\n",
       "      <th>25%</th>\n",
       "      <td>NaN</td>\n",
       "      <td>NaN</td>\n",
       "      <td>NaN</td>\n",
       "      <td>NaN</td>\n",
       "      <td>NaN</td>\n",
       "      <td>86.000000</td>\n",
       "      <td>18.000000</td>\n",
       "      <td>NaN</td>\n",
       "      <td>NaN</td>\n",
       "      <td>NaN</td>\n",
       "      <td>NaN</td>\n",
       "      <td>NaN</td>\n",
       "    </tr>\n",
       "    <tr>\n",
       "      <th>50%</th>\n",
       "      <td>NaN</td>\n",
       "      <td>NaN</td>\n",
       "      <td>NaN</td>\n",
       "      <td>NaN</td>\n",
       "      <td>NaN</td>\n",
       "      <td>88.000000</td>\n",
       "      <td>27.000000</td>\n",
       "      <td>NaN</td>\n",
       "      <td>NaN</td>\n",
       "      <td>NaN</td>\n",
       "      <td>NaN</td>\n",
       "      <td>NaN</td>\n",
       "    </tr>\n",
       "    <tr>\n",
       "      <th>75%</th>\n",
       "      <td>NaN</td>\n",
       "      <td>NaN</td>\n",
       "      <td>NaN</td>\n",
       "      <td>NaN</td>\n",
       "      <td>NaN</td>\n",
       "      <td>91.000000</td>\n",
       "      <td>45.000000</td>\n",
       "      <td>NaN</td>\n",
       "      <td>NaN</td>\n",
       "      <td>NaN</td>\n",
       "      <td>NaN</td>\n",
       "      <td>NaN</td>\n",
       "    </tr>\n",
       "    <tr>\n",
       "      <th>max</th>\n",
       "      <td>NaN</td>\n",
       "      <td>NaN</td>\n",
       "      <td>NaN</td>\n",
       "      <td>NaN</td>\n",
       "      <td>NaN</td>\n",
       "      <td>100.000000</td>\n",
       "      <td>3300.000000</td>\n",
       "      <td>NaN</td>\n",
       "      <td>NaN</td>\n",
       "      <td>NaN</td>\n",
       "      <td>NaN</td>\n",
       "      <td>NaN</td>\n",
       "    </tr>\n",
       "  </tbody>\n",
       "</table>\n",
       "</div>"
      ],
      "text/plain": [
       "         user_name country                           review_title  \\\n",
       "count        63264   82622                                  82657   \n",
       "unique          15      38                                  76983   \n",
       "top     @vossroger      US  Korbel NV Brut Sparkling (California)   \n",
       "freq         17539   38573                                      8   \n",
       "mean           NaN     NaN                                    NaN   \n",
       "std            NaN     NaN                                    NaN   \n",
       "min            NaN     NaN                                    NaN   \n",
       "25%            NaN     NaN                                    NaN   \n",
       "50%            NaN     NaN                                    NaN   \n",
       "75%            NaN     NaN                                    NaN   \n",
       "max            NaN     NaN                                    NaN   \n",
       "\n",
       "                                       review_description designation  \\\n",
       "count                                               82657       59010   \n",
       "unique                                              77628       26424   \n",
       "top     Fresh green herbs on the nose accumulate fruit...     Reserve   \n",
       "freq                                                    2        1382   \n",
       "mean                                                  NaN         NaN   \n",
       "std                                                   NaN         NaN   \n",
       "min                                                   NaN         NaN   \n",
       "25%                                                   NaN         NaN   \n",
       "50%                                                   NaN         NaN   \n",
       "75%                                                   NaN         NaN   \n",
       "max                                                   NaN         NaN   \n",
       "\n",
       "              points         price    province     region_1       region_2  \\\n",
       "count   82657.000000  77088.000000       82622        69903          35949   \n",
       "unique           NaN           NaN         358         1019             17   \n",
       "top              NaN           NaN  California  Napa Valley  Central Coast   \n",
       "freq             NaN           NaN       25736         3334           7503   \n",
       "mean       88.544564     36.922232         NaN          NaN            NaN   \n",
       "std         3.099649     43.698346         NaN          NaN            NaN   \n",
       "min        80.000000      4.000000         NaN          NaN            NaN   \n",
       "25%        86.000000     18.000000         NaN          NaN            NaN   \n",
       "50%        88.000000     27.000000         NaN          NaN            NaN   \n",
       "75%        91.000000     45.000000         NaN          NaN            NaN   \n",
       "max       100.000000   3300.000000         NaN          NaN            NaN   \n",
       "\n",
       "            winery     variety  \n",
       "count        82657       82657  \n",
       "unique       13786          28  \n",
       "top     Testarossa  Pinot Noir  \n",
       "freq           175       10587  \n",
       "mean           NaN         NaN  \n",
       "std            NaN         NaN  \n",
       "min            NaN         NaN  \n",
       "25%            NaN         NaN  \n",
       "50%            NaN         NaN  \n",
       "75%            NaN         NaN  \n",
       "max            NaN         NaN  "
      ]
     },
     "execution_count": 151,
     "metadata": {},
     "output_type": "execute_result"
    }
   ],
   "source": [
    "train.describe(include = 'all')"
   ]
  },
  {
   "cell_type": "markdown",
   "metadata": {},
   "source": [
    "# **Data visualization**"
   ]
  },
  {
   "cell_type": "markdown",
   "metadata": {},
   "source": [
    "# **Histogram**"
   ]
  },
  {
   "cell_type": "code",
   "execution_count": 152,
   "metadata": {},
   "outputs": [],
   "source": [
    "def pastel_plot(data, x, y):\n",
    "    plt.figure(figsize = (15,6))\n",
    "    plt.title('Points histogram - whole dataset')\n",
    "    sns.set_color_codes(\"pastel\")\n",
    "    sns.barplot(x = x, y=y, data=df)\n",
    "    locs, labels = plt.xticks()\n",
    "    plt.show()"
   ]
  },
  {
   "cell_type": "code",
   "execution_count": 153,
   "metadata": {},
   "outputs": [
    {
     "data": {
      "image/png": "[encoded data removed]",
      "text/plain": [
       "<Figure size 1080x432 with 1 Axes>"
      ]
     },
     "metadata": {
      "needs_background": "light"
     },
     "output_type": "display_data"
    }
   ],
   "source": [
    "temp = train[\"points\"].value_counts()\n",
    "df = pd.DataFrame({'points': temp.index,\n",
    "                   'number_of_wines': temp.values\n",
    "                  })\n",
    "\n",
    "pastel_plot(df,'points', 'number_of_wines')"
   ]
  },
  {
   "cell_type": "markdown",
   "metadata": {},
   "source": [
    "We can see that all wines have number of points above 80. And points has normal distribution. The most wines have 88 points.\n",
    "\n",
    "We can also get exact distribution not only the histogram. We will show it on price column"
   ]
  },
  {
   "cell_type": "code",
   "execution_count": 154,
   "metadata": {},
   "outputs": [
    {
     "data": {
      "image/png": "[encoded data removed]",
      "text/plain": [
       "<Figure size 1440x360 with 1 Axes>"
      ]
     },
     "metadata": {
      "needs_background": "light"
     },
     "output_type": "display_data"
    }
   ],
   "source": [
    "plt.figure(figsize=(20,5))\n",
    "plt.title(\"Distribution of price\")\n",
    "ax = sns.distplot(train[\"price\"])"
   ]
  },
  {
   "cell_type": "markdown",
   "metadata": {},
   "source": [
    "We see that if we want to see better price distribution we have to scale our price or drop the tail. We will drop the tail, so the values that are above 200 dollars. We are also want to calculate how many wines are more expensive then 200 dolars."
   ]
  },
  {
   "cell_type": "code",
   "execution_count": 155,
   "metadata": {},
   "outputs": [
    {
     "name": "stdout",
     "output_type": "stream",
     "text": [
      "There are : 0.587971980594505 % wines more expensive then 200 USD\n"
     ]
    },
    {
     "data": {
      "image/png": "[encoded data removed]",
      "text/plain": [
       "<Figure size 1440x360 with 1 Axes>"
      ]
     },
     "metadata": {
      "needs_background": "light"
     },
     "output_type": "display_data"
    }
   ],
   "source": [
    "plt.figure(figsize=(20,5))\n",
    "plt.title(\"Distribution of price\")\n",
    "ax = sns.distplot(train[train[\"price\"]<200]['price'])\n",
    "\n",
    "percent=train[train['price']>200].shape[0]/train.shape[0]*100\n",
    "print(\"There are :\", percent, \"% wines more expensive then 200 USD\")"
   ]
  },
  {
   "cell_type": "markdown",
   "metadata": {},
   "source": [
    "\n",
    "\n",
    "Let's investigate which country have most expensive and most high rated wines. First of all we will sort it by price and then plot."
   ]
  },
  {
   "cell_type": "code",
   "execution_count": 156,
   "metadata": {},
   "outputs": [
    {
     "name": "stderr",
     "output_type": "stream",
     "text": [
      "/opt/conda/lib/python3.7/site-packages/ipykernel_launcher.py:1: FutureWarning: Indexing with multiple keys (implicitly converted to a tuple of keys) will be deprecated, use a list instead.\n",
      "  \"\"\"Entry point for launching an IPython kernel.\n"
     ]
    },
    {
     "data": {
      "text/html": [
       "<div>\n",
       "<style scoped>\n",
       "    .dataframe tbody tr th:only-of-type {\n",
       "        vertical-align: middle;\n",
       "    }\n",
       "\n",
       "    .dataframe tbody tr th {\n",
       "        vertical-align: top;\n",
       "    }\n",
       "\n",
       "    .dataframe thead th {\n",
       "        text-align: right;\n",
       "    }\n",
       "</style>\n",
       "<table border=\"1\" class=\"dataframe\">\n",
       "  <thead>\n",
       "    <tr style=\"text-align: right;\">\n",
       "      <th></th>\n",
       "      <th>country</th>\n",
       "      <th>price</th>\n",
       "    </tr>\n",
       "  </thead>\n",
       "  <tbody>\n",
       "    <tr>\n",
       "      <th>33</th>\n",
       "      <td>Switzerland</td>\n",
       "      <td>107.800000</td>\n",
       "    </tr>\n",
       "    <tr>\n",
       "      <th>10</th>\n",
       "      <td>England</td>\n",
       "      <td>50.706897</td>\n",
       "    </tr>\n",
       "    <tr>\n",
       "      <th>18</th>\n",
       "      <td>Italy</td>\n",
       "      <td>46.573810</td>\n",
       "    </tr>\n",
       "    <tr>\n",
       "      <th>13</th>\n",
       "      <td>Germany</td>\n",
       "      <td>43.591731</td>\n",
       "    </tr>\n",
       "    <tr>\n",
       "      <th>11</th>\n",
       "      <td>France</td>\n",
       "      <td>43.371654</td>\n",
       "    </tr>\n",
       "    <tr>\n",
       "      <th>35</th>\n",
       "      <td>US</td>\n",
       "      <td>37.462948</td>\n",
       "    </tr>\n",
       "    <tr>\n",
       "      <th>5</th>\n",
       "      <td>Canada</td>\n",
       "      <td>33.820809</td>\n",
       "    </tr>\n",
       "    <tr>\n",
       "      <th>17</th>\n",
       "      <td>Israel</td>\n",
       "      <td>33.032362</td>\n",
       "    </tr>\n",
       "    <tr>\n",
       "      <th>2</th>\n",
       "      <td>Austria</td>\n",
       "      <td>31.662900</td>\n",
       "    </tr>\n",
       "    <tr>\n",
       "      <th>29</th>\n",
       "      <td>Serbia</td>\n",
       "      <td>31.500000</td>\n",
       "    </tr>\n",
       "  </tbody>\n",
       "</table>\n",
       "</div>"
      ],
      "text/plain": [
       "        country       price\n",
       "33  Switzerland  107.800000\n",
       "10      England   50.706897\n",
       "18        Italy   46.573810\n",
       "13      Germany   43.591731\n",
       "11       France   43.371654\n",
       "35           US   37.462948\n",
       "5        Canada   33.820809\n",
       "17       Israel   33.032362\n",
       "2       Austria   31.662900\n",
       "29       Serbia   31.500000"
      ]
     },
     "execution_count": 156,
     "metadata": {},
     "output_type": "execute_result"
    }
   ],
   "source": [
    "z=train.groupby(['country'])['price','points'].mean().reset_index().sort_values('price',ascending=False)\n",
    "z[['country','price']].head(n=10)"
   ]
  },
  {
   "cell_type": "code",
   "execution_count": 157,
   "metadata": {},
   "outputs": [
    {
     "data": {
      "image/png": "[encoded data removed]",
      "text/plain": [
       "<Figure size 1008x432 with 1 Axes>"
      ]
     },
     "metadata": {
      "needs_background": "light"
     },
     "output_type": "display_data"
    }
   ],
   "source": [
    "plt.figure(figsize = (14,6))\n",
    "plt.title('Wine prices in diffrent countries')\n",
    "sns.barplot(x = 'country', y=\"price\", data=z.head(10))\n",
    "locs, labels = plt.xticks()\n",
    "plt.show()"
   ]
  },
  {
   "cell_type": "code",
   "execution_count": 158,
   "metadata": {},
   "outputs": [
    {
     "data": {
      "text/html": [
       "<div>\n",
       "<style scoped>\n",
       "    .dataframe tbody tr th:only-of-type {\n",
       "        vertical-align: middle;\n",
       "    }\n",
       "\n",
       "    .dataframe tbody tr th {\n",
       "        vertical-align: top;\n",
       "    }\n",
       "\n",
       "    .dataframe thead th {\n",
       "        text-align: right;\n",
       "    }\n",
       "</style>\n",
       "<table border=\"1\" class=\"dataframe\">\n",
       "  <thead>\n",
       "    <tr style=\"text-align: right;\">\n",
       "      <th></th>\n",
       "      <th>country</th>\n",
       "      <th>points</th>\n",
       "    </tr>\n",
       "  </thead>\n",
       "  <tbody>\n",
       "    <tr>\n",
       "      <th>10</th>\n",
       "      <td>England</td>\n",
       "      <td>91.451613</td>\n",
       "    </tr>\n",
       "    <tr>\n",
       "      <th>2</th>\n",
       "      <td>Austria</td>\n",
       "      <td>90.372093</td>\n",
       "    </tr>\n",
       "    <tr>\n",
       "      <th>13</th>\n",
       "      <td>Germany</td>\n",
       "      <td>90.019072</td>\n",
       "    </tr>\n",
       "    <tr>\n",
       "      <th>5</th>\n",
       "      <td>Canada</td>\n",
       "      <td>89.375000</td>\n",
       "    </tr>\n",
       "    <tr>\n",
       "      <th>16</th>\n",
       "      <td>India</td>\n",
       "      <td>89.000000</td>\n",
       "    </tr>\n",
       "    <tr>\n",
       "      <th>18</th>\n",
       "      <td>Italy</td>\n",
       "      <td>88.964881</td>\n",
       "    </tr>\n",
       "    <tr>\n",
       "      <th>11</th>\n",
       "      <td>France</td>\n",
       "      <td>88.882180</td>\n",
       "    </tr>\n",
       "    <tr>\n",
       "      <th>24</th>\n",
       "      <td>Morocco</td>\n",
       "      <td>88.809524</td>\n",
       "    </tr>\n",
       "    <tr>\n",
       "      <th>35</th>\n",
       "      <td>US</td>\n",
       "      <td>88.617064</td>\n",
       "    </tr>\n",
       "    <tr>\n",
       "      <th>17</th>\n",
       "      <td>Israel</td>\n",
       "      <td>88.525000</td>\n",
       "    </tr>\n",
       "  </tbody>\n",
       "</table>\n",
       "</div>"
      ],
      "text/plain": [
       "    country     points\n",
       "10  England  91.451613\n",
       "2   Austria  90.372093\n",
       "13  Germany  90.019072\n",
       "5    Canada  89.375000\n",
       "16    India  89.000000\n",
       "18    Italy  88.964881\n",
       "11   France  88.882180\n",
       "24  Morocco  88.809524\n",
       "35       US  88.617064\n",
       "17   Israel  88.525000"
      ]
     },
     "execution_count": 158,
     "metadata": {},
     "output_type": "execute_result"
    }
   ],
   "source": [
    "z=z.sort_values('points', ascending=False)\n",
    "z[['country','points']].head(10)"
   ]
  },
  {
   "cell_type": "code",
   "execution_count": 159,
   "metadata": {},
   "outputs": [
    {
     "data": {
      "image/png": "[encoded data removed]",
      "text/plain": [
       "<Figure size 1008x432 with 1 Axes>"
      ]
     },
     "metadata": {
      "needs_background": "light"
     },
     "output_type": "display_data"
    }
   ],
   "source": [
    "plt.figure(figsize = (14,6))\n",
    "plt.title('Points for wines in diffrent countries')\n",
    "sns.set_color_codes(\"pastel\")\n",
    "sns.barplot(x = 'country', y=\"points\", data=z.head(5))\n",
    "locs, labels = plt.xticks()\n",
    "plt.show()"
   ]
  },
  {
   "cell_type": "markdown",
   "metadata": {},
   "source": [
    "We can easily note, that the wines in Switzerland are the most expensive one.\n",
    "The highest mean of points came to England Based on our data."
   ]
  },
  {
   "cell_type": "code",
   "execution_count": 160,
   "metadata": {},
   "outputs": [
    {
     "data": {
      "text/plain": [
       "US              38573\n",
       "France          15948\n",
       "Italy            9112\n",
       "Portugal         3197\n",
       "Chile            2891\n",
       "Spain            2755\n",
       "Argentina        2570\n",
       "Austria          1892\n",
       "Germany          1573\n",
       "New Zealand      1121\n",
       "Australia        1028\n",
       "South Africa      727\n",
       "Israel            320\n",
       "Canada            176\n",
       "Greece            139\n",
       "Bulgaria           93\n",
       "Romania            80\n",
       "England            62\n",
       "Slovenia           42\n",
       "Mexico             38\n",
       "Name: country, dtype: int64"
      ]
     },
     "execution_count": 160,
     "metadata": {},
     "output_type": "execute_result"
    },
    {
     "data": {
      "image/png": "[encoded data removed]",
      "text/plain": [
       "<Figure size 432x288 with 1 Axes>"
      ]
     },
     "metadata": {
      "needs_background": "light"
     },
     "output_type": "display_data"
    }
   ],
   "source": [
    "country=train['country'].value_counts()\n",
    "country.head(10).plot.bar()\n",
    "country.head(20)"
   ]
  },
  {
   "cell_type": "markdown",
   "metadata": {},
   "source": [
    "Important thing to investegate will be also price/quality factor."
   ]
  },
  {
   "cell_type": "code",
   "execution_count": 161,
   "metadata": {},
   "outputs": [
    {
     "data": {
      "text/html": [
       "<div>\n",
       "<style scoped>\n",
       "    .dataframe tbody tr th:only-of-type {\n",
       "        vertical-align: middle;\n",
       "    }\n",
       "\n",
       "    .dataframe tbody tr th {\n",
       "        vertical-align: top;\n",
       "    }\n",
       "\n",
       "    .dataframe thead th {\n",
       "        text-align: right;\n",
       "    }\n",
       "</style>\n",
       "<table border=\"1\" class=\"dataframe\">\n",
       "  <thead>\n",
       "    <tr style=\"text-align: right;\">\n",
       "      <th></th>\n",
       "      <th>country</th>\n",
       "      <th>quality/price</th>\n",
       "    </tr>\n",
       "  </thead>\n",
       "  <tbody>\n",
       "    <tr>\n",
       "      <th>36</th>\n",
       "      <td>Ukraine</td>\n",
       "      <td>9.000000</td>\n",
       "    </tr>\n",
       "    <tr>\n",
       "      <th>16</th>\n",
       "      <td>India</td>\n",
       "      <td>7.416667</td>\n",
       "    </tr>\n",
       "    <tr>\n",
       "      <th>28</th>\n",
       "      <td>Romania</td>\n",
       "      <td>6.951613</td>\n",
       "    </tr>\n",
       "    <tr>\n",
       "      <th>12</th>\n",
       "      <td>Georgia</td>\n",
       "      <td>6.722581</td>\n",
       "    </tr>\n",
       "    <tr>\n",
       "      <th>26</th>\n",
       "      <td>Peru</td>\n",
       "      <td>5.954955</td>\n",
       "    </tr>\n",
       "    <tr>\n",
       "      <th>4</th>\n",
       "      <td>Bulgaria</td>\n",
       "      <td>5.800425</td>\n",
       "    </tr>\n",
       "    <tr>\n",
       "      <th>8</th>\n",
       "      <td>Cyprus</td>\n",
       "      <td>5.747253</td>\n",
       "    </tr>\n",
       "    <tr>\n",
       "      <th>21</th>\n",
       "      <td>Macedonia</td>\n",
       "      <td>5.733333</td>\n",
       "    </tr>\n",
       "    <tr>\n",
       "      <th>9</th>\n",
       "      <td>Czech Republic</td>\n",
       "      <td>5.630435</td>\n",
       "    </tr>\n",
       "    <tr>\n",
       "      <th>24</th>\n",
       "      <td>Morocco</td>\n",
       "      <td>4.895013</td>\n",
       "    </tr>\n",
       "    <tr>\n",
       "      <th>23</th>\n",
       "      <td>Moldova</td>\n",
       "      <td>4.599700</td>\n",
       "    </tr>\n",
       "    <tr>\n",
       "      <th>6</th>\n",
       "      <td>Chile</td>\n",
       "      <td>4.148746</td>\n",
       "    </tr>\n",
       "    <tr>\n",
       "      <th>27</th>\n",
       "      <td>Portugal</td>\n",
       "      <td>4.099557</td>\n",
       "    </tr>\n",
       "    <tr>\n",
       "      <th>20</th>\n",
       "      <td>Luxembourg</td>\n",
       "      <td>3.745763</td>\n",
       "    </tr>\n",
       "    <tr>\n",
       "      <th>30</th>\n",
       "      <td>Slovenia</td>\n",
       "      <td>3.741367</td>\n",
       "    </tr>\n",
       "    <tr>\n",
       "      <th>3</th>\n",
       "      <td>Brazil</td>\n",
       "      <td>3.731092</td>\n",
       "    </tr>\n",
       "    <tr>\n",
       "      <th>14</th>\n",
       "      <td>Greece</td>\n",
       "      <td>3.710086</td>\n",
       "    </tr>\n",
       "    <tr>\n",
       "      <th>0</th>\n",
       "      <td>Argentina</td>\n",
       "      <td>3.417425</td>\n",
       "    </tr>\n",
       "    <tr>\n",
       "      <th>31</th>\n",
       "      <td>South Africa</td>\n",
       "      <td>3.400898</td>\n",
       "    </tr>\n",
       "    <tr>\n",
       "      <th>7</th>\n",
       "      <td>Croatia</td>\n",
       "      <td>3.379447</td>\n",
       "    </tr>\n",
       "    <tr>\n",
       "      <th>37</th>\n",
       "      <td>Uruguay</td>\n",
       "      <td>3.354953</td>\n",
       "    </tr>\n",
       "    <tr>\n",
       "      <th>25</th>\n",
       "      <td>New Zealand</td>\n",
       "      <td>3.329099</td>\n",
       "    </tr>\n",
       "    <tr>\n",
       "      <th>32</th>\n",
       "      <td>Spain</td>\n",
       "      <td>3.140673</td>\n",
       "    </tr>\n",
       "    <tr>\n",
       "      <th>34</th>\n",
       "      <td>Turkey</td>\n",
       "      <td>3.041929</td>\n",
       "    </tr>\n",
       "    <tr>\n",
       "      <th>15</th>\n",
       "      <td>Hungary</td>\n",
       "      <td>3.039370</td>\n",
       "    </tr>\n",
       "    <tr>\n",
       "      <th>22</th>\n",
       "      <td>Mexico</td>\n",
       "      <td>3.032741</td>\n",
       "    </tr>\n",
       "    <tr>\n",
       "      <th>1</th>\n",
       "      <td>Australia</td>\n",
       "      <td>2.982057</td>\n",
       "    </tr>\n",
       "    <tr>\n",
       "      <th>2</th>\n",
       "      <td>Austria</td>\n",
       "      <td>2.854195</td>\n",
       "    </tr>\n",
       "    <tr>\n",
       "      <th>19</th>\n",
       "      <td>Lebanon</td>\n",
       "      <td>2.811213</td>\n",
       "    </tr>\n",
       "    <tr>\n",
       "      <th>29</th>\n",
       "      <td>Serbia</td>\n",
       "      <td>2.777778</td>\n",
       "    </tr>\n",
       "    <tr>\n",
       "      <th>17</th>\n",
       "      <td>Israel</td>\n",
       "      <td>2.679948</td>\n",
       "    </tr>\n",
       "    <tr>\n",
       "      <th>5</th>\n",
       "      <td>Canada</td>\n",
       "      <td>2.642604</td>\n",
       "    </tr>\n",
       "    <tr>\n",
       "      <th>35</th>\n",
       "      <td>US</td>\n",
       "      <td>2.365459</td>\n",
       "    </tr>\n",
       "    <tr>\n",
       "      <th>13</th>\n",
       "      <td>Germany</td>\n",
       "      <td>2.065049</td>\n",
       "    </tr>\n",
       "    <tr>\n",
       "      <th>11</th>\n",
       "      <td>France</td>\n",
       "      <td>2.049315</td>\n",
       "    </tr>\n",
       "    <tr>\n",
       "      <th>18</th>\n",
       "      <td>Italy</td>\n",
       "      <td>1.910191</td>\n",
       "    </tr>\n",
       "    <tr>\n",
       "      <th>10</th>\n",
       "      <td>England</td>\n",
       "      <td>1.803534</td>\n",
       "    </tr>\n",
       "    <tr>\n",
       "      <th>33</th>\n",
       "      <td>Switzerland</td>\n",
       "      <td>0.816327</td>\n",
       "    </tr>\n",
       "  </tbody>\n",
       "</table>\n",
       "</div>"
      ],
      "text/plain": [
       "           country  quality/price\n",
       "36         Ukraine       9.000000\n",
       "16           India       7.416667\n",
       "28         Romania       6.951613\n",
       "12         Georgia       6.722581\n",
       "26            Peru       5.954955\n",
       "4         Bulgaria       5.800425\n",
       "8           Cyprus       5.747253\n",
       "21       Macedonia       5.733333\n",
       "9   Czech Republic       5.630435\n",
       "24         Morocco       4.895013\n",
       "23         Moldova       4.599700\n",
       "6            Chile       4.148746\n",
       "27        Portugal       4.099557\n",
       "20      Luxembourg       3.745763\n",
       "30        Slovenia       3.741367\n",
       "3           Brazil       3.731092\n",
       "14          Greece       3.710086\n",
       "0        Argentina       3.417425\n",
       "31    South Africa       3.400898\n",
       "7          Croatia       3.379447\n",
       "37         Uruguay       3.354953\n",
       "25     New Zealand       3.329099\n",
       "32           Spain       3.140673\n",
       "34          Turkey       3.041929\n",
       "15         Hungary       3.039370\n",
       "22          Mexico       3.032741\n",
       "1        Australia       2.982057\n",
       "2          Austria       2.854195\n",
       "19         Lebanon       2.811213\n",
       "29          Serbia       2.777778\n",
       "17          Israel       2.679948\n",
       "5           Canada       2.642604\n",
       "35              US       2.365459\n",
       "13         Germany       2.065049\n",
       "11          France       2.049315\n",
       "18           Italy       1.910191\n",
       "10         England       1.803534\n",
       "33     Switzerland       0.816327"
      ]
     },
     "execution_count": 161,
     "metadata": {},
     "output_type": "execute_result"
    }
   ],
   "source": [
    "z['quality/price']=z['points']/z['price']\n",
    "z.sort_values('quality/price', ascending=False)[['country','quality/price']]"
   ]
  },
  {
   "cell_type": "code",
   "execution_count": 162,
   "metadata": {},
   "outputs": [
    {
     "data": {
      "text/plain": [
       "<matplotlib.axes._subplots.AxesSubplot at 0x7fa0eeb444d0>"
      ]
     },
     "execution_count": 162,
     "metadata": {},
     "output_type": "execute_result"
    },
    {
     "data": {
      "image/png": "[encoded data removed]",
      "text/plain": [
       "<Figure size 1008x432 with 1 Axes>"
      ]
     },
     "metadata": {
      "needs_background": "light"
     },
     "output_type": "display_data"
    }
   ],
   "source": [
    "df1= train[train.variety.isin(train.variety.value_counts().head(6).index)]\n",
    "\n",
    "plt.figure(figsize = (14,6))\n",
    "sns.boxplot(\n",
    "    x = 'variety',\n",
    "    y = 'points',\n",
    "    data = df1\n",
    ")"
   ]
  },
  {
   "cell_type": "markdown",
   "metadata": {},
   "source": [
    "# Input Data"
   ]
  },
  {
   "cell_type": "code",
   "execution_count": 163,
   "metadata": {},
   "outputs": [],
   "source": [
    "input_data = train['review_description']\n",
    "output_data = train['variety']\n",
    "input_data1 = test['review_description']"
   ]
  },
  {
   "cell_type": "code",
   "execution_count": 164,
   "metadata": {},
   "outputs": [
    {
     "name": "stdout",
     "output_type": "stream",
     "text": [
      "There are 28 varieties of wines in this dataset\n"
     ]
    }
   ],
   "source": [
    "print ('There are %d varieties of wines in this dataset' % len(set(output_data)))"
   ]
  },
  {
   "cell_type": "markdown",
   "metadata": {},
   "source": [
    "# Encoding"
   ]
  },
  {
   "cell_type": "code",
   "execution_count": 165,
   "metadata": {},
   "outputs": [
    {
     "data": {
      "text/plain": [
       "array([ 5, 17, 11, ...,  6,  0,  3])"
      ]
     },
     "execution_count": 165,
     "metadata": {},
     "output_type": "execute_result"
    }
   ],
   "source": [
    "labelEncoder = LabelEncoder()\n",
    "output_data = labelEncoder.fit_transform(output_data)\n",
    "output_data"
   ]
  },
  {
   "cell_type": "markdown",
   "metadata": {},
   "source": [
    "# Cleaning the Description"
   ]
  },
  {
   "cell_type": "code",
   "execution_count": 166,
   "metadata": {},
   "outputs": [],
   "source": [
    "input_data = input_data.str.lower()\n",
    "input_data1 = input_data1.str.lower()"
   ]
  },
  {
   "cell_type": "code",
   "execution_count": 167,
   "metadata": {},
   "outputs": [],
   "source": [
    "list_aux = []\n",
    "for phase_word in input_data:\n",
    "    list_aux.append(' '.join([re.sub('[0-9\\W_]', '', word) for word in phase_word.split() if not word in sw]))\n",
    "input_data = list_aux"
   ]
  },
  {
   "cell_type": "code",
   "execution_count": 168,
   "metadata": {},
   "outputs": [],
   "source": [
    "list_aux1 = []\n",
    "for phase_word in input_data1:\n",
    "    list_aux1.append(' '.join([re.sub('[0-9\\W_]', '', word) for word in phase_word.split() if not word in sw]))\n",
    "input_data1 = list_aux1"
   ]
  },
  {
   "cell_type": "markdown",
   "metadata": {},
   "source": [
    "# Model"
   ]
  },
  {
   "cell_type": "markdown",
   "metadata": {},
   "source": [
    "We are using *neural network* to predict the variety."
   ]
  },
  {
   "cell_type": "code",
   "execution_count": 169,
   "metadata": {},
   "outputs": [
    {
     "name": "stdout",
     "output_type": "stream",
     "text": [
      "Train on 66125 samples, validate on 16532 samples\n",
      "Epoch 1/2\n",
      " - 61s - loss: 1.3555 - accuracy: 0.6059 - val_loss: 0.9760 - val_accuracy: 0.7027\n",
      "\n",
      "Epoch 00001: val_accuracy improved from -inf to 0.70270, saving model to weights.best.hdf5\n",
      "Epoch 2/2\n",
      " - 62s - loss: 0.7699 - accuracy: 0.7618 - val_loss: 0.9500 - val_accuracy: 0.7113\n",
      "\n",
      "Epoch 00002: val_accuracy improved from 0.70270 to 0.71135, saving model to weights.best.hdf5\n"
     ]
    }
   ],
   "source": [
    "from keras.layers import Dropout\n",
    "countVectorizer = CountVectorizer()\n",
    "input_data = countVectorizer.fit_transform(input_data)\n",
    "X_train, X_test, y_train, y_test = train_test_split(input_data, output_data, test_size=0.2) \n",
    "model = Sequential()\n",
    "model.add(Dense(100, activation='relu', input_dim=len(countVectorizer.get_feature_names())))\n",
    "model.add(Dropout(0.2))\n",
    "model.add(Dense(units=output_data.max()+1, activation='sigmoid'))\n",
    "model.compile(loss='sparse_categorical_crossentropy', optimizer='adam', metrics=['accuracy'])\n",
    "from keras.callbacks import ModelCheckpoint\n",
    "filepath=\"weights.best.hdf5\"\n",
    "checkpoint = ModelCheckpoint(filepath, monitor='val_accuracy', verbose=1, save_best_only=True, mode='max')\n",
    "history = model.fit(X_train, y_train,epochs =2 , \n",
    "         validation_data = (X_test, y_test),callbacks = [checkpoint], verbose = 2)"
   ]
  },
  {
   "cell_type": "markdown",
   "metadata": {},
   "source": [
    "# Accuracy"
   ]
  },
  {
   "cell_type": "code",
   "execution_count": 170,
   "metadata": {},
   "outputs": [
    {
     "name": "stdout",
     "output_type": "stream",
     "text": [
      "16532/16532 [==============================] - 4s 223us/step\n"
     ]
    },
    {
     "data": {
      "text/plain": [
       "0.7113476991653442"
      ]
     },
     "execution_count": 170,
     "metadata": {},
     "output_type": "execute_result"
    }
   ],
   "source": [
    "score = model.evaluate(X_test,y_test)\n",
    "score[1]"
   ]
  },
  {
   "cell_type": "code",
   "execution_count": 171,
   "metadata": {},
   "outputs": [],
   "source": [
    "input_data1 = countVectorizer.fit_transform(input_data1)"
   ]
  },
  {
   "cell_type": "code",
   "execution_count": 172,
   "metadata": {},
   "outputs": [],
   "source": [
    "model = Sequential()\n",
    "model.add(Dense(100, activation='relu', input_dim=len(countVectorizer.get_feature_names())))\n",
    "model.add(Dropout(0.2))\n",
    "model.add(Dense(units=output_data.max()+1, activation='sigmoid'))"
   ]
  },
  {
   "cell_type": "markdown",
   "metadata": {},
   "source": [
    "# Test Prediction"
   ]
  },
  {
   "cell_type": "code",
   "execution_count": 173,
   "metadata": {},
   "outputs": [
    {
     "data": {
      "text/plain": [
       "array([[0.48748133, 0.5080229 , 0.51964855, ..., 0.49860954, 0.48919794,\n",
       "        0.49182105],\n",
       "       [0.5042168 , 0.5047797 , 0.5141163 , ..., 0.47680327, 0.5260852 ,\n",
       "        0.4942142 ],\n",
       "       [0.4844341 , 0.493615  , 0.5023612 , ..., 0.4983591 , 0.5123073 ,\n",
       "        0.50458306],\n",
       "       ...,\n",
       "       [0.5036304 , 0.5045937 , 0.52836037, ..., 0.46645966, 0.5069839 ,\n",
       "        0.49421874],\n",
       "       [0.4948835 , 0.49045438, 0.50433356, ..., 0.48581216, 0.5028412 ,\n",
       "        0.4921202 ],\n",
       "       [0.50588524, 0.49807695, 0.50694937, ..., 0.5023511 , 0.52076584,\n",
       "        0.5143958 ]], dtype=float32)"
      ]
     },
     "execution_count": 173,
     "metadata": {},
     "output_type": "execute_result"
    }
   ],
   "source": [
    "result = model.predict(input_data1)\n",
    "result"
   ]
  },
  {
   "cell_type": "code",
   "execution_count": 174,
   "metadata": {},
   "outputs": [],
   "source": [
    "result = np.argmax(result,axis = 1)"
   ]
  },
  {
   "cell_type": "code",
   "execution_count": 175,
   "metadata": {},
   "outputs": [
    {
     "data": {
      "text/plain": [
       "LabelEncoder()"
      ]
     },
     "execution_count": 175,
     "metadata": {},
     "output_type": "execute_result"
    }
   ],
   "source": [
    "from sklearn import preprocessing\n",
    "le = preprocessing.LabelEncoder()\n",
    "le.fit(train['variety'])\n"
   ]
  },
  {
   "cell_type": "code",
   "execution_count": 176,
   "metadata": {},
   "outputs": [],
   "source": [
    "result = le.inverse_transform(result)"
   ]
  },
  {
   "cell_type": "code",
   "execution_count": 177,
   "metadata": {},
   "outputs": [],
   "source": [
    "result = pd.Series(result,name=\"variety\")"
   ]
  },
  {
   "cell_type": "code",
   "execution_count": 178,
   "metadata": {},
   "outputs": [
    {
     "data": {
      "text/plain": [
       "0               Cabernet Franc\n",
       "1                 Pinot Grigio\n",
       "2        Rhône-style Red Blend\n",
       "3                  White Blend\n",
       "4           Cabernet Sauvignon\n",
       "                 ...          \n",
       "20660           Portuguese Red\n",
       "20661             Pinot Grigio\n",
       "20662           Cabernet Franc\n",
       "20663             Pinot Grigio\n",
       "20664               Sangiovese\n",
       "Name: variety, Length: 20665, dtype: object"
      ]
     },
     "execution_count": 178,
     "metadata": {},
     "output_type": "execute_result"
    }
   ],
   "source": [
    "result"
   ]
  },
  {
   "cell_type": "markdown",
   "metadata": {},
   "source": [
    "# Concatenate the prediction with test data set"
   ]
  },
  {
   "cell_type": "code",
   "execution_count": 179,
   "metadata": {},
   "outputs": [],
   "source": [
    "submission = pd.concat([test,result],axis = 1)"
   ]
  },
  {
   "cell_type": "code",
   "execution_count": 180,
   "metadata": {},
   "outputs": [
    {
     "data": {
      "text/html": [
       "<div>\n",
       "<style scoped>\n",
       "    .dataframe tbody tr th:only-of-type {\n",
       "        vertical-align: middle;\n",
       "    }\n",
       "\n",
       "    .dataframe tbody tr th {\n",
       "        vertical-align: top;\n",
       "    }\n",
       "\n",
       "    .dataframe thead th {\n",
       "        text-align: right;\n",
       "    }\n",
       "</style>\n",
       "<table border=\"1\" class=\"dataframe\">\n",
       "  <thead>\n",
       "    <tr style=\"text-align: right;\">\n",
       "      <th></th>\n",
       "      <th>user_name</th>\n",
       "      <th>country</th>\n",
       "      <th>review_title</th>\n",
       "      <th>review_description</th>\n",
       "      <th>designation</th>\n",
       "      <th>points</th>\n",
       "      <th>price</th>\n",
       "      <th>province</th>\n",
       "      <th>region_1</th>\n",
       "      <th>region_2</th>\n",
       "      <th>winery</th>\n",
       "      <th>variety</th>\n",
       "    </tr>\n",
       "  </thead>\n",
       "  <tbody>\n",
       "    <tr>\n",
       "      <th>0</th>\n",
       "      <td>@paulgwine</td>\n",
       "      <td>US</td>\n",
       "      <td>Boedecker Cellars 2011 Athena Pinot Noir (Will...</td>\n",
       "      <td>Nicely differentiated from the companion Stewa...</td>\n",
       "      <td>Athena</td>\n",
       "      <td>88</td>\n",
       "      <td>35.0</td>\n",
       "      <td>Oregon</td>\n",
       "      <td>Willamette Valley</td>\n",
       "      <td>Willamette Valley</td>\n",
       "      <td>Boedecker Cellars</td>\n",
       "      <td>Cabernet Franc</td>\n",
       "    </tr>\n",
       "    <tr>\n",
       "      <th>1</th>\n",
       "      <td>@wineschach</td>\n",
       "      <td>Argentina</td>\n",
       "      <td>Mendoza Vineyards 2012 Gran Reserva by Richard...</td>\n",
       "      <td>Charred, smoky, herbal aromas of blackberry tr...</td>\n",
       "      <td>Gran Reserva by Richard Bonvin</td>\n",
       "      <td>90</td>\n",
       "      <td>60.0</td>\n",
       "      <td>Mendoza Province</td>\n",
       "      <td>Mendoza</td>\n",
       "      <td>NaN</td>\n",
       "      <td>Mendoza Vineyards</td>\n",
       "      <td>Pinot Grigio</td>\n",
       "    </tr>\n",
       "    <tr>\n",
       "      <th>2</th>\n",
       "      <td>@vboone</td>\n",
       "      <td>US</td>\n",
       "      <td>Prime 2013 Chardonnay (Coombsville)</td>\n",
       "      <td>Slightly sour and funky in earth, this is a re...</td>\n",
       "      <td>NaN</td>\n",
       "      <td>87</td>\n",
       "      <td>38.0</td>\n",
       "      <td>California</td>\n",
       "      <td>Coombsville</td>\n",
       "      <td>Napa</td>\n",
       "      <td>Prime</td>\n",
       "      <td>Rhône-style Red Blend</td>\n",
       "    </tr>\n",
       "    <tr>\n",
       "      <th>3</th>\n",
       "      <td>@wineschach</td>\n",
       "      <td>Argentina</td>\n",
       "      <td>Bodega Cuarto Dominio 2012 Chento Vineyard Sel...</td>\n",
       "      <td>This concentrated, midnight-black Malbec deliv...</td>\n",
       "      <td>Chento Vineyard Selection</td>\n",
       "      <td>91</td>\n",
       "      <td>20.0</td>\n",
       "      <td>Mendoza Province</td>\n",
       "      <td>Mendoza</td>\n",
       "      <td>NaN</td>\n",
       "      <td>Bodega Cuarto Dominio</td>\n",
       "      <td>White Blend</td>\n",
       "    </tr>\n",
       "    <tr>\n",
       "      <th>4</th>\n",
       "      <td>@kerinokeefe</td>\n",
       "      <td>Italy</td>\n",
       "      <td>SassodiSole 2012  Brunello di Montalcino</td>\n",
       "      <td>Earthy aromas suggesting grilled porcini, leat...</td>\n",
       "      <td>NaN</td>\n",
       "      <td>90</td>\n",
       "      <td>49.0</td>\n",
       "      <td>Tuscany</td>\n",
       "      <td>Brunello di Montalcino</td>\n",
       "      <td>NaN</td>\n",
       "      <td>SassodiSole</td>\n",
       "      <td>Cabernet Sauvignon</td>\n",
       "    </tr>\n",
       "    <tr>\n",
       "      <th>...</th>\n",
       "      <td>...</td>\n",
       "      <td>...</td>\n",
       "      <td>...</td>\n",
       "      <td>...</td>\n",
       "      <td>...</td>\n",
       "      <td>...</td>\n",
       "      <td>...</td>\n",
       "      <td>...</td>\n",
       "      <td>...</td>\n",
       "      <td>...</td>\n",
       "      <td>...</td>\n",
       "      <td>...</td>\n",
       "    </tr>\n",
       "    <tr>\n",
       "      <th>20660</th>\n",
       "      <td>@gordone_cellars</td>\n",
       "      <td>US</td>\n",
       "      <td>Yorkville Cellars 2013 Rennie Vineyard Caberne...</td>\n",
       "      <td>Clearly focused and fruit-driven, this wine ha...</td>\n",
       "      <td>Rennie Vineyard</td>\n",
       "      <td>91</td>\n",
       "      <td>34.0</td>\n",
       "      <td>California</td>\n",
       "      <td>Yorkville Highlands</td>\n",
       "      <td>North Coast</td>\n",
       "      <td>Yorkville Cellars</td>\n",
       "      <td>Portuguese Red</td>\n",
       "    </tr>\n",
       "    <tr>\n",
       "      <th>20661</th>\n",
       "      <td>@laurbuzz</td>\n",
       "      <td>France</td>\n",
       "      <td>Château Ribaute 2015 Senhal d'Aric Rosé (Corbi...</td>\n",
       "      <td>Herbal tones of bay and rosemary are upfront o...</td>\n",
       "      <td>Senhal d'Aric</td>\n",
       "      <td>84</td>\n",
       "      <td>20.0</td>\n",
       "      <td>Languedoc-Roussillon</td>\n",
       "      <td>Corbières</td>\n",
       "      <td>NaN</td>\n",
       "      <td>Château Ribaute</td>\n",
       "      <td>Pinot Grigio</td>\n",
       "    </tr>\n",
       "    <tr>\n",
       "      <th>20662</th>\n",
       "      <td>@mattkettmann</td>\n",
       "      <td>US</td>\n",
       "      <td>Daou 2014 Reserve Cabernet Sauvignon (Paso Rob...</td>\n",
       "      <td>Mocha cream, pencil shaving and dried herb aro...</td>\n",
       "      <td>Reserve</td>\n",
       "      <td>94</td>\n",
       "      <td>85.0</td>\n",
       "      <td>California</td>\n",
       "      <td>Paso Robles</td>\n",
       "      <td>Central Coast</td>\n",
       "      <td>Daou</td>\n",
       "      <td>Cabernet Franc</td>\n",
       "    </tr>\n",
       "    <tr>\n",
       "      <th>20663</th>\n",
       "      <td>@wineschach</td>\n",
       "      <td>Spain</td>\n",
       "      <td>Peñascal 2011 Tempranillo Rosé (Vino de la Tie...</td>\n",
       "      <td>Loud citrus and berry aromas precede an overlo...</td>\n",
       "      <td>Tempranillo</td>\n",
       "      <td>80</td>\n",
       "      <td>9.0</td>\n",
       "      <td>Northern Spain</td>\n",
       "      <td>Vino de la Tierra de Castilla y León</td>\n",
       "      <td>NaN</td>\n",
       "      <td>Peñascal</td>\n",
       "      <td>Pinot Grigio</td>\n",
       "    </tr>\n",
       "    <tr>\n",
       "      <th>20664</th>\n",
       "      <td>NaN</td>\n",
       "      <td>US</td>\n",
       "      <td>Langtry 2005 Tephra Ridge Vineyard Cabernet Sa...</td>\n",
       "      <td>With very ripe fruit and firm tannins, this mo...</td>\n",
       "      <td>Tephra Ridge Vineyard</td>\n",
       "      <td>87</td>\n",
       "      <td>40.0</td>\n",
       "      <td>California</td>\n",
       "      <td>Lake County</td>\n",
       "      <td>NaN</td>\n",
       "      <td>Langtry</td>\n",
       "      <td>Sangiovese</td>\n",
       "    </tr>\n",
       "  </tbody>\n",
       "</table>\n",
       "<p>20665 rows × 12 columns</p>\n",
       "</div>"
      ],
      "text/plain": [
       "              user_name    country  \\\n",
       "0           @paulgwine          US   \n",
       "1           @wineschach  Argentina   \n",
       "2               @vboone         US   \n",
       "3           @wineschach  Argentina   \n",
       "4          @kerinokeefe      Italy   \n",
       "...                 ...        ...   \n",
       "20660  @gordone_cellars         US   \n",
       "20661         @laurbuzz     France   \n",
       "20662     @mattkettmann         US   \n",
       "20663       @wineschach      Spain   \n",
       "20664               NaN         US   \n",
       "\n",
       "                                            review_title  \\\n",
       "0      Boedecker Cellars 2011 Athena Pinot Noir (Will...   \n",
       "1      Mendoza Vineyards 2012 Gran Reserva by Richard...   \n",
       "2                    Prime 2013 Chardonnay (Coombsville)   \n",
       "3      Bodega Cuarto Dominio 2012 Chento Vineyard Sel...   \n",
       "4               SassodiSole 2012  Brunello di Montalcino   \n",
       "...                                                  ...   \n",
       "20660  Yorkville Cellars 2013 Rennie Vineyard Caberne...   \n",
       "20661  Château Ribaute 2015 Senhal d'Aric Rosé (Corbi...   \n",
       "20662  Daou 2014 Reserve Cabernet Sauvignon (Paso Rob...   \n",
       "20663  Peñascal 2011 Tempranillo Rosé (Vino de la Tie...   \n",
       "20664  Langtry 2005 Tephra Ridge Vineyard Cabernet Sa...   \n",
       "\n",
       "                                      review_description  \\\n",
       "0      Nicely differentiated from the companion Stewa...   \n",
       "1      Charred, smoky, herbal aromas of blackberry tr...   \n",
       "2      Slightly sour and funky in earth, this is a re...   \n",
       "3      This concentrated, midnight-black Malbec deliv...   \n",
       "4      Earthy aromas suggesting grilled porcini, leat...   \n",
       "...                                                  ...   \n",
       "20660  Clearly focused and fruit-driven, this wine ha...   \n",
       "20661  Herbal tones of bay and rosemary are upfront o...   \n",
       "20662  Mocha cream, pencil shaving and dried herb aro...   \n",
       "20663  Loud citrus and berry aromas precede an overlo...   \n",
       "20664  With very ripe fruit and firm tannins, this mo...   \n",
       "\n",
       "                          designation  points  price              province  \\\n",
       "0                              Athena      88   35.0                Oregon   \n",
       "1      Gran Reserva by Richard Bonvin      90   60.0      Mendoza Province   \n",
       "2                                 NaN      87   38.0            California   \n",
       "3           Chento Vineyard Selection      91   20.0      Mendoza Province   \n",
       "4                                 NaN      90   49.0               Tuscany   \n",
       "...                               ...     ...    ...                   ...   \n",
       "20660                 Rennie Vineyard      91   34.0            California   \n",
       "20661                   Senhal d'Aric      84   20.0  Languedoc-Roussillon   \n",
       "20662                         Reserve      94   85.0            California   \n",
       "20663                     Tempranillo      80    9.0        Northern Spain   \n",
       "20664           Tephra Ridge Vineyard      87   40.0            California   \n",
       "\n",
       "                                   region_1           region_2  \\\n",
       "0                         Willamette Valley  Willamette Valley   \n",
       "1                                   Mendoza                NaN   \n",
       "2                               Coombsville               Napa   \n",
       "3                                   Mendoza                NaN   \n",
       "4                    Brunello di Montalcino                NaN   \n",
       "...                                     ...                ...   \n",
       "20660                   Yorkville Highlands        North Coast   \n",
       "20661                             Corbières                NaN   \n",
       "20662                           Paso Robles      Central Coast   \n",
       "20663  Vino de la Tierra de Castilla y León                NaN   \n",
       "20664                           Lake County                NaN   \n",
       "\n",
       "                      winery                variety  \n",
       "0          Boedecker Cellars         Cabernet Franc  \n",
       "1          Mendoza Vineyards           Pinot Grigio  \n",
       "2                      Prime  Rhône-style Red Blend  \n",
       "3      Bodega Cuarto Dominio            White Blend  \n",
       "4                SassodiSole     Cabernet Sauvignon  \n",
       "...                      ...                    ...  \n",
       "20660      Yorkville Cellars         Portuguese Red  \n",
       "20661        Château Ribaute           Pinot Grigio  \n",
       "20662                   Daou         Cabernet Franc  \n",
       "20663               Peñascal           Pinot Grigio  \n",
       "20664                Langtry             Sangiovese  \n",
       "\n",
       "[20665 rows x 12 columns]"
      ]
     },
     "execution_count": 180,
     "metadata": {},
     "output_type": "execute_result"
    }
   ],
   "source": [
    "submission"
   ]
  },
  {
   "cell_type": "code",
   "execution_count": 181,
   "metadata": {},
   "outputs": [],
   "source": [
    "submission.to_csv(\"wine_variety.csv\",index=False)"
   ]
  },
  {
   "cell_type": "code",
   "execution_count": null,
   "metadata": {},
   "outputs": [],
   "source": []
  }
 ],
 "metadata": {
  "kernelspec": {
   "display_name": "Python 3",
   "language": "python",
   "name": "python3"
  },
  "language_info": {
   "codemirror_mode": {
    "name": "ipython",
    "version": 3
   },
   "file_extension": ".py",
   "mimetype": "text/x-python",
   "name": "python",
   "nbconvert_exporter": "python",
   "pygments_lexer": "ipython3",
   "version": "3.7.0"
  }
 },
 "nbformat": 4,
 "nbformat_minor": 4
}
